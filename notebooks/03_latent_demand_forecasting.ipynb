{
 "cells": [
  {
   "cell_type": "markdown",
   "id": "d2e42a1f",
   "metadata": {},
   "source": [
    "### Objective: Set up demand forecasting pipelines focused on the 87 high-impact third-level categories.\n",
    "#### Key Steps:\n",
    "- Filtered dataset to only include relevant categories.\n",
    "- Calculated total demand coverage.\n",
    "- Prepared modeling granularity plan to balance performance with scalability."
   ]
  },
  {
   "cell_type": "code",
   "execution_count": 1,
   "id": "53f79fd4",
   "metadata": {},
   "outputs": [
    {
     "name": "stderr",
     "output_type": "stream",
     "text": [
      "/Users/jhilmitasri/Repositories/MyRepositories/freshretail-demand-forecasting/env/lib/python3.12/site-packages/tqdm/auto.py:21: TqdmWarning: IProgress not found. Please update jupyter and ipywidgets. See https://ipywidgets.readthedocs.io/en/stable/user_install.html\n",
      "  from .autonotebook import tqdm as notebook_tqdm\n"
     ]
    }
   ],
   "source": [
    "from datasets import load_dataset\n",
    "\n",
    "dataset = load_dataset(\"Dingdong-Inc/FreshRetailNet-50K\", split=\"train\")\n",
    "train_df = dataset.to_pandas()"
   ]
  },
  {
   "cell_type": "code",
   "execution_count": 2,
   "id": "a705583b",
   "metadata": {},
   "outputs": [
    {
     "name": "stdout",
     "output_type": "stream",
     "text": [
      "Top 20 third-level categories globally: [60, 113, 81, 103, 77, 123, 154, 168, 65, 94, 105, 104, 82, 181, 179, 101, 172, 167, 98, 149]\n"
     ]
    }
   ],
   "source": [
    "# Step 1: Calculate top N categories globally\n",
    "top_n = 20\n",
    "\n",
    "category_counts = train_df['third_category_id'].value_counts().reset_index()\n",
    "category_counts.columns = ['third_category_id', 'count']\n",
    "\n",
    "top_global_categories = category_counts.head(top_n)['third_category_id'].tolist()\n",
    "print(f\"Top {top_n} third-level categories globally: {top_global_categories}\")"
   ]
  },
  {
   "cell_type": "code",
   "execution_count": 3,
   "id": "700eeb50",
   "metadata": {},
   "outputs": [
    {
     "name": "stdout",
     "output_type": "stream",
     "text": [
      "Store 0: Top categories -> [1, 58, 59, 60, 81]\n",
      "Store 1: Top categories -> [10, 16, 81, 103, 113]\n",
      "Store 2: Top categories -> [10, 77, 81, 113, 167]\n",
      "Store 3: Top categories -> [60, 65, 77, 112, 113]\n",
      "Store 4: Top categories -> [60, 65, 77, 81, 103]\n"
     ]
    }
   ],
   "source": [
    "# Step 2: Get each store's top 5 third_category_id\n",
    "store_category_rank = (\n",
    "    train_df.groupby(['store_id', 'third_category_id'])\n",
    "    .size()\n",
    "    .reset_index(name='count')\n",
    ")\n",
    "\n",
    "# Rank categories within each store\n",
    "store_category_rank['rank'] = store_category_rank.groupby('store_id')['count'].rank(method='first', ascending=False)\n",
    "\n",
    "# Filter top 5 per store\n",
    "store_top5_categories = store_category_rank[store_category_rank['rank'] <= 5]\n",
    "\n",
    "# Store as a dictionary for fast lookup later\n",
    "store_top5_dict = store_top5_categories.groupby('store_id')['third_category_id'].apply(list).to_dict()\n",
    "\n",
    "# Preview\n",
    "for store, cats in list(store_top5_dict.items())[:5]:\n",
    "    print(f\"Store {store}: Top categories -> {cats}\")"
   ]
  },
  {
   "cell_type": "code",
   "execution_count": 6,
   "id": "ec91cf43",
   "metadata": {},
   "outputs": [
    {
     "data": {
      "text/html": [
       "<div>\n",
       "<style scoped>\n",
       "    .dataframe tbody tr th:only-of-type {\n",
       "        vertical-align: middle;\n",
       "    }\n",
       "\n",
       "    .dataframe tbody tr th {\n",
       "        vertical-align: top;\n",
       "    }\n",
       "\n",
       "    .dataframe thead th {\n",
       "        text-align: right;\n",
       "    }\n",
       "</style>\n",
       "<table border=\"1\" class=\"dataframe\">\n",
       "  <thead>\n",
       "    <tr style=\"text-align: right;\">\n",
       "      <th></th>\n",
       "      <th>store_id</th>\n",
       "      <th>third_category_id</th>\n",
       "      <th>count</th>\n",
       "      <th>rank</th>\n",
       "    </tr>\n",
       "  </thead>\n",
       "  <tbody>\n",
       "    <tr>\n",
       "      <th>0</th>\n",
       "      <td>0</td>\n",
       "      <td>1</td>\n",
       "      <td>180</td>\n",
       "      <td>3.0</td>\n",
       "    </tr>\n",
       "    <tr>\n",
       "      <th>8</th>\n",
       "      <td>0</td>\n",
       "      <td>58</td>\n",
       "      <td>180</td>\n",
       "      <td>4.0</td>\n",
       "    </tr>\n",
       "    <tr>\n",
       "      <th>9</th>\n",
       "      <td>0</td>\n",
       "      <td>59</td>\n",
       "      <td>180</td>\n",
       "      <td>5.0</td>\n",
       "    </tr>\n",
       "    <tr>\n",
       "      <th>10</th>\n",
       "      <td>0</td>\n",
       "      <td>60</td>\n",
       "      <td>270</td>\n",
       "      <td>1.0</td>\n",
       "    </tr>\n",
       "    <tr>\n",
       "      <th>14</th>\n",
       "      <td>0</td>\n",
       "      <td>81</td>\n",
       "      <td>270</td>\n",
       "      <td>2.0</td>\n",
       "    </tr>\n",
       "    <tr>\n",
       "      <th>...</th>\n",
       "      <td>...</td>\n",
       "      <td>...</td>\n",
       "      <td>...</td>\n",
       "      <td>...</td>\n",
       "    </tr>\n",
       "    <tr>\n",
       "      <th>38712</th>\n",
       "      <td>897</td>\n",
       "      <td>60</td>\n",
       "      <td>270</td>\n",
       "      <td>1.0</td>\n",
       "    </tr>\n",
       "    <tr>\n",
       "      <th>38713</th>\n",
       "      <td>897</td>\n",
       "      <td>65</td>\n",
       "      <td>180</td>\n",
       "      <td>2.0</td>\n",
       "    </tr>\n",
       "    <tr>\n",
       "      <th>38716</th>\n",
       "      <td>897</td>\n",
       "      <td>81</td>\n",
       "      <td>180</td>\n",
       "      <td>3.0</td>\n",
       "    </tr>\n",
       "    <tr>\n",
       "      <th>38722</th>\n",
       "      <td>897</td>\n",
       "      <td>101</td>\n",
       "      <td>180</td>\n",
       "      <td>4.0</td>\n",
       "    </tr>\n",
       "    <tr>\n",
       "      <th>38730</th>\n",
       "      <td>897</td>\n",
       "      <td>123</td>\n",
       "      <td>180</td>\n",
       "      <td>5.0</td>\n",
       "    </tr>\n",
       "  </tbody>\n",
       "</table>\n",
       "<p>4486 rows × 4 columns</p>\n",
       "</div>"
      ],
      "text/plain": [
       "       store_id  third_category_id  count  rank\n",
       "0             0                  1    180   3.0\n",
       "8             0                 58    180   4.0\n",
       "9             0                 59    180   5.0\n",
       "10            0                 60    270   1.0\n",
       "14            0                 81    270   2.0\n",
       "...         ...                ...    ...   ...\n",
       "38712       897                 60    270   1.0\n",
       "38713       897                 65    180   2.0\n",
       "38716       897                 81    180   3.0\n",
       "38722       897                101    180   4.0\n",
       "38730       897                123    180   5.0\n",
       "\n",
       "[4486 rows x 4 columns]"
      ]
     },
     "execution_count": 6,
     "metadata": {},
     "output_type": "execute_result"
    }
   ],
   "source": [
    "store_top5_categories"
   ]
  },
  {
   "cell_type": "code",
   "execution_count": null,
   "id": "3e132a61",
   "metadata": {},
   "outputs": [],
   "source": []
  },
  {
   "cell_type": "code",
   "execution_count": 7,
   "id": "f1cddbbe",
   "metadata": {},
   "outputs": [
    {
     "name": "stdout",
     "output_type": "stream",
     "text": [
      "🔹 Total unique third-level categories in top 5s across all stores: 87\n"
     ]
    }
   ],
   "source": [
    "unique_top_categories = store_top5_categories['third_category_id'].unique()\n",
    "print(f\"🔹 Total unique third-level categories in top 5s across all stores: {len(unique_top_categories)}\")"
   ]
  },
  {
   "cell_type": "code",
   "execution_count": 8,
   "id": "afc7319f",
   "metadata": {},
   "outputs": [
    {
     "name": "stdout",
     "output_type": "stream",
     "text": [
      "Category 1.0 appears in 175 stores → Sample: [np.float64(0.0), np.float64(10.0), np.float64(12.0), np.float64(50.0), np.float64(52.0)]\n",
      "Category 58.0 appears in 109 stores → Sample: [np.float64(0.0), np.float64(8.0), np.float64(35.0), np.float64(57.0), np.float64(67.0)]\n",
      "Category 59.0 appears in 23 stores → Sample: [np.float64(0.0), np.float64(8.0), np.float64(59.0), np.float64(104.0), np.float64(115.0)]\n",
      "Category 60.0 appears in 673 stores → Sample: [np.float64(0.0), np.float64(3.0), np.float64(4.0), np.float64(5.0), np.float64(6.0)]\n",
      "Category 81.0 appears in 377 stores → Sample: [np.float64(0.0), np.float64(1.0), np.float64(2.0), np.float64(4.0), np.float64(8.0)]\n"
     ]
    }
   ],
   "source": [
    "from collections import defaultdict\n",
    "\n",
    "category_to_stores = defaultdict(list)\n",
    "\n",
    "for _, row in store_top5_categories.iterrows():\n",
    "    category_to_stores[row['third_category_id']].append(row['store_id'])\n",
    "\n",
    "# Optional preview\n",
    "for cat, stores in list(category_to_stores.items())[:5]:\n",
    "    print(f\"Category {cat} appears in {len(stores)} stores → Sample: {stores[:5]}\")"
   ]
  },
  {
   "cell_type": "code",
   "execution_count": 17,
   "id": "9f552831",
   "metadata": {},
   "outputs": [
    {
     "name": "stdout",
     "output_type": "stream",
     "text": [
      "🔹 Total demand (all categories): 4,493,661 units\n",
      "🔹 Demand from top 87 third-level categories: 3,734,714 units\n",
      "🔹 Coverage of total demand: 83.11%\n"
     ]
    }
   ],
   "source": [
    "import numpy as np\n",
    "\n",
    "# 1. Flatten the hours_sale column to a 1D array and sum\n",
    "total_demand = np.sum([np.sum(hours) for hours in train_df['hours_sale']])\n",
    "\n",
    "# 2. Filter for top 87 third-level categories\n",
    "unique_top_categories = store_top5_categories['third_category_id'].unique()\n",
    "top_cat_df = train_df[train_df['third_category_id'].isin(unique_top_categories)]\n",
    "\n",
    "# 3. Flatten and sum demand for top categories\n",
    "top_cat_demand = np.sum([np.sum(hours) for hours in top_cat_df['hours_sale']])\n",
    "\n",
    "# 4. Coverage\n",
    "coverage_percent = (top_cat_demand / total_demand) * 100\n",
    "\n",
    "# 5. Print results\n",
    "print(f\"🔹 Total demand (all categories): {total_demand:,.0f} units\")\n",
    "print(f\"🔹 Demand from top 87 third-level categories: {top_cat_demand:,.0f} units\")\n",
    "print(f\"🔹 Coverage of total demand: {coverage_percent:.2f}%\")"
   ]
  },
  {
   "cell_type": "code",
   "execution_count": null,
   "id": "f9b798dd",
   "metadata": {},
   "outputs": [],
   "source": []
  }
 ],
 "metadata": {
  "kernelspec": {
   "display_name": "env",
   "language": "python",
   "name": "python3"
  },
  "language_info": {
   "codemirror_mode": {
    "name": "ipython",
    "version": 3
   },
   "file_extension": ".py",
   "mimetype": "text/x-python",
   "name": "python",
   "nbconvert_exporter": "python",
   "pygments_lexer": "ipython3",
   "version": "3.12.7"
  }
 },
 "nbformat": 4,
 "nbformat_minor": 5
}
